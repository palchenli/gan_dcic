{
 "cells": [
  {
   "cell_type": "code",
   "execution_count": null,
   "metadata": {
    "collapsed": true
   },
   "outputs": [],
   "source": [
    "!pip install chardet\n",
    "\n",
    "def detect_encoding(file_path):\n",
    "    with open(file_path, \"rb\") as f:\n",
    "        result = chardet.detect(f.read())\n",
    "    return result[\"encoding\"]\n",
    "\n",
    "file_path = \"../data/训练数据集/C-问题集/C0001.txt\"\n",
    "encoding = detect_encoding(file_path)\n",
    "print(encoding)"
   ]
  },
  {
   "cell_type": "code",
   "execution_count": null,
   "outputs": [],
   "source": [
    "question = []\n",
    "for i in range(1, 116):\n",
    "    file_name = str(i)\n",
    "    while len(file_name) != 4:\n",
    "        file_name = \"0\" + file_name\n",
    "\n",
    "    file_name = \"C\" + file_name + \".txt\"\n",
    "\n",
    "    with open(\"../data/训练数据集/C-问题集/\"+file_name) as f:\n",
    "        for line in f.readlines():\n",
    "            print(line)"
   ],
   "metadata": {
    "collapsed": false,
    "pycharm": {
     "name": "#%%\n"
    }
   }
  }
 ],
 "metadata": {
  "kernelspec": {
   "display_name": "Python 3",
   "language": "python",
   "name": "python3"
  },
  "language_info": {
   "codemirror_mode": {
    "name": "ipython",
    "version": 2
   },
   "file_extension": ".py",
   "mimetype": "text/x-python",
   "name": "python",
   "nbconvert_exporter": "python",
   "pygments_lexer": "ipython2",
   "version": "2.7.6"
  }
 },
 "nbformat": 4,
 "nbformat_minor": 0
}